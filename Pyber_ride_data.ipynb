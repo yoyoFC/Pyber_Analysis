{
 "cells": [
  {
   "cell_type": "code",
   "execution_count": null,
   "id": "229768ef",
   "metadata": {},
   "outputs": [],
   "source": [
    "%matplotlib inline\n",
    "# Dependencies\n",
    "import matplotlib.pyplot as plt\n",
    "import numpy as np\n",
    "import pandas as pd\n",
    "import statistics as st\n",
    "# Load in csv\n",
    "pyber_ride_df = pd.read_csv(\"Resources/PyBer_ride_data.csv\")\n",
    "pyber_ride_df"
   ]
  },
  {
   "cell_type": "code",
   "execution_count": null,
   "id": "ec830fef",
   "metadata": {},
   "outputs": [],
   "source": [
    "x_axis = np.arange(len(pyber_ride_df))\n",
    "tick_locations = [value for value in x_axis]\n",
    "pyber_ride_df.plot(x=\"Month\",y=\"Avg. Fare ($USD)\")\n",
    "plt.xticks(tick_locations,pyber_ride_df[\"Month\"])\n",
    "plt.show()"
   ]
  },
  {
   "cell_type": "code",
   "execution_count": null,
   "id": "a0410ced",
   "metadata": {},
   "outputs": [],
   "source": [
    "stdev = st.stdev(pyber_ride_df[\"Avg. Fare ($USD)\"])\n",
    "pyber_ride_df.plot.bar(x=\"Month\",y=\"Avg. Fare ($USD)\", color = 'skyblue', yerr=stdev,capsize=3)\n",
    "plt.yticks(np.arange(0, 51, step=5.0))\n",
    "#plt.errorbar(x=pyber_ride_df[\"Month\"],y=pyber_ride_df[\"Avg. Fare ($USD)\"],yerr = stdev,capsize=3)\n",
    "plt.show()"
   ]
  },
  {
   "cell_type": "code",
   "execution_count": null,
   "id": "2e1b71cd",
   "metadata": {},
   "outputs": [],
   "source": []
  },
  {
   "cell_type": "code",
   "execution_count": null,
   "id": "3f232754",
   "metadata": {},
   "outputs": [],
   "source": []
  },
  {
   "cell_type": "code",
   "execution_count": null,
   "id": "0cb3cb63",
   "metadata": {},
   "outputs": [],
   "source": []
  }
 ],
 "metadata": {
  "kernelspec": {
   "display_name": "PythonData",
   "language": "python",
   "name": "pythondata"
  },
  "language_info": {
   "codemirror_mode": {
    "name": "ipython",
    "version": 3
   },
   "file_extension": ".py",
   "mimetype": "text/x-python",
   "name": "python",
   "nbconvert_exporter": "python",
   "pygments_lexer": "ipython3",
   "version": "3.7.10"
  }
 },
 "nbformat": 4,
 "nbformat_minor": 5
}
